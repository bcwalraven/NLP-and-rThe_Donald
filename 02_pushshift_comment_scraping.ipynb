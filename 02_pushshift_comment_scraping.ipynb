{
 "cells": [
  {
   "cell_type": "code",
   "execution_count": 1,
   "metadata": {},
   "outputs": [],
   "source": [
    "import requests\n",
    "import time\n",
    "import pandas as pd\n",
    "\n",
    "import datetime as dt"
   ]
  },
  {
   "cell_type": "code",
   "execution_count": 2,
   "metadata": {},
   "outputs": [],
   "source": [
    "def scrape_pushshift(subreddit, content, start_date, end_date, search_range):\n",
    "    if 24 % search_range != 0:\n",
    "        print('not a valid search_range')\n",
    "        return None\n",
    "    \n",
    "    # setting up number of inital conditions\n",
    "    hours = ((end_date-start_date).days + 1) * (24//search_range)\n",
    "    before = (dt.date.today()-end_date).days*24\n",
    "    after = before + search_range\n",
    "    completed_hours = 0\n",
    "    completed_days = 0\n",
    "    \n",
    "    dict_list = []\n",
    "\n",
    "    for _ in range(hours):\n",
    "        # sets up url with the specified subreddit and next hour block\n",
    "        url = f'https://api.pushshift.io/reddit/search/{content}/?subreddit={subreddit}&size=500&before={str(before)}h&after={str(after)}h'\n",
    "        res = requests.get(url)\n",
    "        \n",
    "        # checks for a valid connection\n",
    "        while res.status_code != 200:\n",
    "            print(res.status_code)\n",
    "            res = requests.get(url)\n",
    "            time.sleep(1)\n",
    "        \n",
    "        the_json = res.json()\n",
    "        dict_list.extend(the_json['data'])\n",
    "        \n",
    "        before += search_range\n",
    "        after += search_range\n",
    "        completed_hours += search_range\n",
    "        \n",
    "        if completed_hours % 240 == 0:\n",
    "            completed_days += 10\n",
    "            print(f'Days Complete: {completed_days}')\n",
    "        time.sleep(1)\n",
    "\n",
    "    return dict_list"
   ]
  },
  {
   "cell_type": "code",
   "execution_count": 3,
   "metadata": {},
   "outputs": [],
   "source": [
    "def scrape_to_dataframe(data):\n",
    "    posts = []\n",
    "    for dct in data:\n",
    "        post_dict = {}\n",
    "        post_dict['subreddit'] = dct['subreddit']\n",
    "        post_dict['body'] = dct['body']\n",
    "        post_dict['author'] = dct['author']\n",
    "        post_dict['score'] = dct['score']\n",
    "        post_dict['date'] = dct[\"created_utc\"]\n",
    "        posts.append(post_dict)\n",
    "\n",
    "    df =  pd.DataFrame(posts)\n",
    "    \n",
    "    def get_date(created):\n",
    "            return dt.date.fromtimestamp(created)\n",
    "    df['date'] = df['date'].apply(get_date)\n",
    "    \n",
    "    return df"
   ]
  },
  {
   "cell_type": "code",
   "execution_count": 4,
   "metadata": {},
   "outputs": [
    {
     "name": "stdout",
     "output_type": "stream",
     "text": [
      "Days Complete: 10\n",
      "Days Complete: 20\n",
      "Days Complete: 30\n"
     ]
    }
   ],
   "source": [
    "donald_comments_scrape = scrape_pushshift(subreddit = 'the_donald', \n",
    "                                          content = 'comment', \n",
    "                                          start_date = dt.date(2018, 11, 1), \n",
    "                                          end_date = dt.date(2018, 11, 30),\n",
    "                                          search_range = 12)"
   ]
  },
  {
   "cell_type": "code",
   "execution_count": 5,
   "metadata": {},
   "outputs": [],
   "source": [
    "donald_comments_data = scrape_to_dataframe(donald_comments_scrape)"
   ]
  },
  {
   "cell_type": "code",
   "execution_count": 6,
   "metadata": {},
   "outputs": [
    {
     "data": {
      "text/html": [
       "<div>\n",
       "<style scoped>\n",
       "    .dataframe tbody tr th:only-of-type {\n",
       "        vertical-align: middle;\n",
       "    }\n",
       "\n",
       "    .dataframe tbody tr th {\n",
       "        vertical-align: top;\n",
       "    }\n",
       "\n",
       "    .dataframe thead th {\n",
       "        text-align: right;\n",
       "    }\n",
       "</style>\n",
       "<table border=\"1\" class=\"dataframe\">\n",
       "  <thead>\n",
       "    <tr style=\"text-align: right;\">\n",
       "      <th></th>\n",
       "      <th>author</th>\n",
       "      <th>body</th>\n",
       "      <th>date</th>\n",
       "      <th>score</th>\n",
       "      <th>subreddit</th>\n",
       "    </tr>\n",
       "  </thead>\n",
       "  <tbody>\n",
       "    <tr>\n",
       "      <th>0</th>\n",
       "      <td>nixfu</td>\n",
       "      <td>No completed deals = not doing business.  He w...</td>\n",
       "      <td>2018-11-30</td>\n",
       "      <td>1</td>\n",
       "      <td>The_Donald</td>\n",
       "    </tr>\n",
       "    <tr>\n",
       "      <th>1</th>\n",
       "      <td>Crypulous</td>\n",
       "      <td>Trump has been amazing on a lot of things, but...</td>\n",
       "      <td>2018-11-30</td>\n",
       "      <td>1</td>\n",
       "      <td>The_Donald</td>\n",
       "    </tr>\n",
       "    <tr>\n",
       "      <th>2</th>\n",
       "      <td>Dueler312</td>\n",
       "      <td>Actually Fox news did show it.</td>\n",
       "      <td>2018-11-30</td>\n",
       "      <td>1</td>\n",
       "      <td>The_Donald</td>\n",
       "    </tr>\n",
       "    <tr>\n",
       "      <th>3</th>\n",
       "      <td>soberlight</td>\n",
       "      <td>The excuse about being concerned about their r...</td>\n",
       "      <td>2018-11-30</td>\n",
       "      <td>1</td>\n",
       "      <td>The_Donald</td>\n",
       "    </tr>\n",
       "    <tr>\n",
       "      <th>4</th>\n",
       "      <td>enterthewalrus</td>\n",
       "      <td>Well Arizona did not get Martha McSally but it...</td>\n",
       "      <td>2018-11-30</td>\n",
       "      <td>1</td>\n",
       "      <td>The_Donald</td>\n",
       "    </tr>\n",
       "  </tbody>\n",
       "</table>\n",
       "</div>"
      ],
      "text/plain": [
       "           author                                               body  \\\n",
       "0           nixfu  No completed deals = not doing business.  He w...   \n",
       "1       Crypulous  Trump has been amazing on a lot of things, but...   \n",
       "2       Dueler312                    Actually Fox news did show it.    \n",
       "3      soberlight  The excuse about being concerned about their r...   \n",
       "4  enterthewalrus  Well Arizona did not get Martha McSally but it...   \n",
       "\n",
       "         date  score   subreddit  \n",
       "0  2018-11-30      1  The_Donald  \n",
       "1  2018-11-30      1  The_Donald  \n",
       "2  2018-11-30      1  The_Donald  \n",
       "3  2018-11-30      1  The_Donald  \n",
       "4  2018-11-30      1  The_Donald  "
      ]
     },
     "execution_count": 6,
     "metadata": {},
     "output_type": "execute_result"
    }
   ],
   "source": [
    "donald_comments_data.head()"
   ]
  },
  {
   "cell_type": "code",
   "execution_count": 11,
   "metadata": {
    "scrolled": true
   },
   "outputs": [
    {
     "name": "stdout",
     "output_type": "stream",
     "text": [
      "Days Complete: 10\n",
      "Days Complete: 20\n",
      "Days Complete: 30\n"
     ]
    }
   ],
   "source": [
    "chapo_comments_scrape = scrape_pushshift(subreddit = 'chapotraphouse', \n",
    "                                          content = 'comment', \n",
    "                                          start_date = dt.date(2018, 11, 1), \n",
    "                                          end_date = dt.date(2018, 11, 30),\n",
    "                                          search_range = 12)"
   ]
  },
  {
   "cell_type": "code",
   "execution_count": 13,
   "metadata": {},
   "outputs": [
    {
     "data": {
      "text/html": [
       "<div>\n",
       "<style scoped>\n",
       "    .dataframe tbody tr th:only-of-type {\n",
       "        vertical-align: middle;\n",
       "    }\n",
       "\n",
       "    .dataframe tbody tr th {\n",
       "        vertical-align: top;\n",
       "    }\n",
       "\n",
       "    .dataframe thead th {\n",
       "        text-align: right;\n",
       "    }\n",
       "</style>\n",
       "<table border=\"1\" class=\"dataframe\">\n",
       "  <thead>\n",
       "    <tr style=\"text-align: right;\">\n",
       "      <th></th>\n",
       "      <th>author</th>\n",
       "      <th>body</th>\n",
       "      <th>date</th>\n",
       "      <th>score</th>\n",
       "      <th>subreddit</th>\n",
       "    </tr>\n",
       "  </thead>\n",
       "  <tbody>\n",
       "    <tr>\n",
       "      <th>0</th>\n",
       "      <td>Lieutenant_Rans</td>\n",
       "      <td>/u/34193248710478172340 you know the drill pos...</td>\n",
       "      <td>2018-11-30</td>\n",
       "      <td>1</td>\n",
       "      <td>ChapoTrapHouse</td>\n",
       "    </tr>\n",
       "    <tr>\n",
       "      <th>1</th>\n",
       "      <td>StickmanPirate</td>\n",
       "      <td>You mean ANTIFAcebook</td>\n",
       "      <td>2018-11-30</td>\n",
       "      <td>1</td>\n",
       "      <td>ChapoTrapHouse</td>\n",
       "    </tr>\n",
       "    <tr>\n",
       "      <th>2</th>\n",
       "      <td>Soupy_Phil</td>\n",
       "      <td>From MA. This has been going on for years and ...</td>\n",
       "      <td>2018-11-30</td>\n",
       "      <td>1</td>\n",
       "      <td>ChapoTrapHouse</td>\n",
       "    </tr>\n",
       "    <tr>\n",
       "      <th>3</th>\n",
       "      <td>Saltwaterpapi</td>\n",
       "      <td>respect the hustle</td>\n",
       "      <td>2018-11-30</td>\n",
       "      <td>1</td>\n",
       "      <td>ChapoTrapHouse</td>\n",
       "    </tr>\n",
       "    <tr>\n",
       "      <th>4</th>\n",
       "      <td>thesch</td>\n",
       "      <td>lmao I had no idea Brodus Clay was a Fox News guy</td>\n",
       "      <td>2018-11-30</td>\n",
       "      <td>1</td>\n",
       "      <td>ChapoTrapHouse</td>\n",
       "    </tr>\n",
       "  </tbody>\n",
       "</table>\n",
       "</div>"
      ],
      "text/plain": [
       "            author                                               body  \\\n",
       "0  Lieutenant_Rans  /u/34193248710478172340 you know the drill pos...   \n",
       "1   StickmanPirate                              You mean ANTIFAcebook   \n",
       "2       Soupy_Phil  From MA. This has been going on for years and ...   \n",
       "3    Saltwaterpapi                                 respect the hustle   \n",
       "4           thesch  lmao I had no idea Brodus Clay was a Fox News guy   \n",
       "\n",
       "         date  score       subreddit  \n",
       "0  2018-11-30      1  ChapoTrapHouse  \n",
       "1  2018-11-30      1  ChapoTrapHouse  \n",
       "2  2018-11-30      1  ChapoTrapHouse  \n",
       "3  2018-11-30      1  ChapoTrapHouse  \n",
       "4  2018-11-30      1  ChapoTrapHouse  "
      ]
     },
     "execution_count": 13,
     "metadata": {},
     "output_type": "execute_result"
    }
   ],
   "source": [
    "chapo_comments_data = scrape_to_dataframe(chapo_comments_scrape)\n",
    "chapo_comments_data.head()"
   ]
  },
  {
   "cell_type": "code",
   "execution_count": 14,
   "metadata": {},
   "outputs": [],
   "source": [
    "combined_data = pd.concat([donald_comments_data, chapo_comments_data], axis=0, ignore_index=True)"
   ]
  },
  {
   "cell_type": "code",
   "execution_count": 15,
   "metadata": {},
   "outputs": [
    {
     "data": {
      "text/plain": [
       "[removed]                                                                                                                                                                                                                                                                                                                                                                                                                                                                                                                                               1683\n",
       "Reminder: when someone links to a thread outside of /r/ChapoTrapHouse, please avoid posting or voting in the linked thread. If it's seen as \"brigading\" it could get you suspended or banned.\\n\\n\\n*I am a bot, and this action was performed automatically. Please [contact the moderators of this subreddit](/message/compose/?to=/r/ChapoTrapHouse) if you have any questions or concerns.*                                                                                                                                                            74\n",
       "F                                                                                                                                                                                                                                                                                                                                                                                                                                                                                                                                                         49\n",
       "o7                                                                                                                                                                                                                                                                                                                                                                                                                                                                                                                                                        40\n",
       "[deleted]                                                                                                                                                                                                                                                                                                                                                                                                                                                                                                                                                 23\n",
       "No                                                                                                                                                                                                                                                                                                                                                                                                                                                                                                                                                        21\n",
       "Yes                                                                                                                                                                                                                                                                                                                                                                                                                                                                                                                                                       20\n",
       "[**The VOLCEL POLICE are on the scene!**](https://i.imgur.com/P5UMuVz.jpg) PLEASE KEEP YOUR VITAL ESSENCES TO YOURSELVES AT ALL TIMES.\\n\\nتمنحك شرطة Volcel القوة المعنوية للنجاح في هدفك: No Nut November. تذكر أن تبقي السوائل الحيوية لنفسك في هذا الشهر الكريم. إذا كنت تستطيع قراءة هذا ، الرجاء المساعدة في الترجمة الصحيحة - القبلات ، التعديل\\n\\n*I am a bot, and this action was performed automatically. Please [contact the moderators of this subreddit](/message/compose/?to=/r/ChapoTrapHouse) if you have any questions or concerns.*      18\n",
       "Nice                                                                                                                                                                                                                                                                                                                                                                                                                                                                                                                                                      16\n",
       "Lol                                                                                                                                                                                                                                                                                                                                                                                                                                                                                                                                                       13\n",
       "Your comment was automatically removed because you linked to an anti-Trump domain.\\n\\n*I am a bot, and this action was performed automatically. Please [contact the moderators of this subreddit](/message/compose/?to=/r/The_Donald) if you have any questions or concerns.*                                                                                                                                                                                                                                                                             12\n",
       "lol                                                                                                                                                                                                                                                                                                                                                                                                                                                                                                                                                       12\n",
       "no                                                                                                                                                                                                                                                                                                                                                                                                                                                                                                                                                        11\n",
       "Thanks!                                                                                                                                                                                                                                                                                                                                                                                                                                                                                                                                                   10\n",
       "Yes.                                                                                                                                                                                                                                                                                                                                                                                                                                                                                                                                                      10\n",
       "Your submission was automatically removed because you linked to an anti-Trump domain. Please use archive.is or a google cache for this domain so we do not give them any undeserved clicks.\\n\\n*I am a bot, and this action was performed automatically. Please [contact the moderators of this subreddit](/message/compose/?to=/r/The_Donald) if you have any questions or concerns.*                                                                                                                                                                    10\n",
       "LOL                                                                                                                                                                                                                                                                                                                                                                                                                                                                                                                                                       10\n",
       "Link?                                                                                                                                                                                                                                                                                                                                                                                                                                                                                                                                                     10\n",
       "Your comment was automatically removed because you linked to an anti-Trump domain. Please use archive.is or a google cache for this domain so we do not give them any undeserved clicks.\\n\\n*I am a bot, and this action was performed automatically. Please [contact the moderators of this subreddit](/message/compose/?to=/r/The_Donald) if you have any questions or concerns.*                                                                                                                                                                        9\n",
       "Thank you!                                                                                                                                                                                                                                                                                                                                                                                                                                                                                                                                                 9\n",
       "Lmao                                                                                                                                                                                                                                                                                                                                                                                                                                                                                                                                                       9\n",
       "Why?                                                                                                                                                                                                                                                                                                                                                                                                                                                                                                                                                       9\n",
       "Law enforcement officials say they have a tentative identification, but they're not yet revealing the name. The gunman is a white male, born in 1990 who is heavily tattooed, the officials said.\\n\\nDean said on \"Today\" that that investigators were seeking to identify him using fingerprints and tattoos.\\n\\nhttps://www.nbcnews.com/news/us-news/shooting-reported-borderline-bar-grill-thousand-oaks-california-n933831\\n\\n                                                                                                                         9\n",
       "Same                                                                                                                                                                                                                                                                                                                                                                                                                                                                                                                                                       8\n",
       "yes                                                                                                                                                                                                                                                                                                                                                                                                                                                                                                                                                        8\n",
       "Exactly                                                                                                                                                                                                                                                                                                                                                                                                                                                                                                                                                    8\n",
       "https://www.projectveritas.com/donate/                                                                                                                                                                                                                                                                                                                                                                                                                                                                                                                     8\n",
       "Post hog                                                                                                                                                                                                                                                                                                                                                                                                                                                                                                                                                   7\n",
       "This                                                                                                                                                                                                                                                                                                                                                                                                                                                                                                                                                       6\n",
       "Who?                                                                                                                                                                                                                                                                                                                                                                                                                                                                                                                                                       6\n",
       "                                                                                                                                                                                                                                                                                                                                                                                                                                                                                                                                                        ... \n",
       "Leisure Suit Lorenzo                                                                                                                                                                                                                                                                                                                                                                                                                                                                                                                                       1\n",
       "I lost my gold in a canoeing accident in the middle of Lake Erie... somewhere.                                                                                                                                                                                                                                                                                                                                                                                                                                                                             1\n",
       "Is this more of the legendary right-wing meme talent I see here?                                                                                                                                                                                                                                                                                                                                                                                                                                                                                           1\n",
       "TBF, some households have no man in there because they decided being a dad is too much and abandoned their child. Some men are just shit. It's probably better that we acknowledge that having two parents is often the best, just short of one/both parents being dipshits.                                                                                                                                                                                                                                                                               1\n",
       "FYI they're called NPCs now.\\n\\nTHEY ***HATE*** BEING CALLED NPCs :)                                                                                                                                                                                                                                                                                                                                                                                                                                                                                       1\n",
       "cops probably murdered someone and want to get that off the front page                                                                                                                                                                                                                                                                                                                                                                                                                                                                                     1\n",
       "What about No-vember and it is already Christmas                                                                                                                                                                                                                                                                                                                                                                                                                                                                                                           1\n",
       "It is. They've fucked over the constitution so bad, liberals mind's will be blown, so it will be a crisis.                                                                                                                                                                                                                                                                                                                                                                                                                                                 1\n",
       "they arent that retarded....are they?                                                                                                                                                                                                                                                                                                                                                                                                                                                                                                                      1\n",
       "Prevent Mexican nationals from voting  and SHAZAM !!!!!!!!                                                                                                                                                                                                                                                                                                                                                                                                                                                                                                 1\n",
       "I guess that's what happens when you try to argue with a sentient chair                                                                                                                                                                                                                                                                                                                                                                                                                                                                                    1\n",
       "It's also a special election, so all the California libtards send over their shitty propaganda and election riggers all to one targeted area.                                                                                                                                                                                                                                                                                                                                                                                                              1\n",
       "I just got the impression people think Angela Nagle is saying some far out right wing stuff about borders and immigration. Really she's saying Bernie Sanders' policy. \\n                                                                                                                                                                                                                                                                                                                                                                                  1\n",
       "De Oppresso Liber 🇺🇸                                                                                                                                                                                                                                                                                                                                                                                                                                                                                                                                       1\n",
       "The day where we all play Shovel Knight                                                                                                                                                                                                                                                                                                                                                                                                                                                                                                                    1\n",
       "See the conditions for both are still the same though                                                                                                                                                                                                                                                                                                                                                                                                                                                                                                      1\n",
       "\"we are staunch individualists. We will not assign collective guilt to everyone who shat.\"                                                                                                                                                                                                                                                                                                                                                                                                                                                                 1\n",
       "You're all racists.  Wait, stop lumping us all together so we can't call you racist.  WAH!!                                                                                                                                                                                                                                                                                                                                                                                                                                                                1\n",
       "Mbubu from Eritrea did not turn out to be the engineer they were looking for? Popobubu did not spearhead an European Silicon Valley ? They raped and stabbed instead?                                                                                                                                                                                                                                                                                                                                                                                      1\n",
       "Too bad, so sad.                                                                                                                                                                                                                                                                                                                                                                                                                                                                                                                                           1\n",
       "I try to explain the hypocrisy to people and they just jump to Whataboutism. Everyone has seen the Last Week Tonight episode, it's not a valid counter point.                                                                                                                                                                                                                                                                                                                                                                                              1\n",
       "Audrey was in a coma in season 3                                                                                                                                                                                                                                                                                                                                                                                                                                                                                                                           1\n",
       "Which one is easier to predict?                                                                                                                                                                                                                                                                                                                                                                                                                                                                                                                            1\n",
       "Whoa wait, so the guy **WASN'T** taking his cock out for air?                                                                                                                                                                                                                                                                                                                                                                                                                                                                                              1\n",
       "What I find interesting is that so many of these stories are reported by UK based papers and not ours. It’s almost like we’re elbow deep in fuckery over here or something.                                                                                                                                                                                                                                                                                                                                                                                1\n",
       "A toast, pede! Good on you!                                                                                                                                                                                                                                                                                                                                                                                                                                                                                                                                1\n",
       "To be fair his first cousin once removed had a solid sketch comedy show so                                                                                                                                                                                                                                                                                                                                                                                                                                                                                 1\n",
       "Man, MB is truly a large adult son                                                                                                                                                                                                                                                                                                                                                                                                                                                                                                                         1\n",
       "i was born with a rare disease that lets me see gender. im blind.                                                                                                                                                                                                                                                                                                                                                                                                                                                                                          1\n",
       "I’m starting a religion against surveys.\\n\\nCommandment 1: thou shalt not try to read other people’s minds using polls or surveys \\n\\nCommandment 2: thou shalt never take surveys or polls\\n\\nCommandment 3: if thou has to take one for various circumstances of life and property, falsify thine information, alternating falsifying major or minor parts to keep them off thine trail                                                                                                                                                                  1\n",
       "Name: body, Length: 57340, dtype: int64"
      ]
     },
     "execution_count": 15,
     "metadata": {},
     "output_type": "execute_result"
    }
   ],
   "source": [
    "combined_data.body.value_counts()"
   ]
  },
  {
   "cell_type": "code",
   "execution_count": 16,
   "metadata": {
    "scrolled": true
   },
   "outputs": [],
   "source": [
    "reminder_mask = combined_data.body.map(lambda x: True if 'Reminder: when someone links to a thread outside of /r/ChapoTrapHouse' in x else False)\n",
    "combined_data = combined_data.loc[~reminder_mask]\n",
    "\n",
    "newsnetwork_mask = combined_data.body.map(lambda x: True if 'f8SJIS3XxU8iqHoInw' in x else False)\n",
    "combined_data = combined_data.loc[~newsnetwork_mask]\n",
    "\n",
    "automatic_mask = combined_data.body.map(lambda x: True if 'Your comment was automatically removed' in x else False)\n",
    "combined_data = combined_data.loc[~automatic_mask]\n",
    "\n",
    "snapshillbot_mask = combined_data.body.map(lambda x: True if 'SnapshillBot' in x else False)\n",
    "combined_data = combined_data.loc[~snapshillbot_mask]\n",
    "\n",
    "removal_mask = (combined_data.body == '[removed]') | (combined_data.body == '[deleted]') \n",
    "combined_data = combined_data.loc[~removal_mask, :]"
   ]
  },
  {
   "cell_type": "code",
   "execution_count": 17,
   "metadata": {},
   "outputs": [],
   "source": [
    "combined_data.dropna(inplace=True)\n",
    "combined_data.reset_index(drop=True, inplace=True)"
   ]
  },
  {
   "cell_type": "code",
   "execution_count": 18,
   "metadata": {},
   "outputs": [],
   "source": [
    "#combined_data.to_csv('./datasets/raw_donald_chappo_text.csv')"
   ]
  },
  {
   "cell_type": "markdown",
   "metadata": {},
   "source": [
    "---"
   ]
  },
  {
   "cell_type": "markdown",
   "metadata": {},
   "source": [
    "Text Cleaning"
   ]
  },
  {
   "cell_type": "code",
   "execution_count": 19,
   "metadata": {},
   "outputs": [],
   "source": [
    "from bs4 import BeautifulSoup      \n",
    "from nltk.corpus import stopwords\n",
    "import regex as re\n",
    "\n",
    "from nltk.stem\n",
    "from sklearn.feature_extraction.text import CountVectorizer, HashingVectorizer, TfidfVectorizer"
   ]
  },
  {
   "cell_type": "code",
   "execution_count": 20,
   "metadata": {},
   "outputs": [],
   "source": [
    "def clean_text(raw_text):\n",
    "    text = re.sub(r'https:[^\\s]+', repl='', string=raw_text)\n",
    "    text = re.sub(r'http:[^\\s]+', repl='', string=text)\n",
    "    text = BeautifulSoup(text, 'lxml').get_text() \n",
    "    text = text.lower()\n",
    "    words_only = re.sub(\"[^a-zA-Z]\", \" \", text)\n",
    "    return(words_only)"
   ]
  },
  {
   "cell_type": "markdown",
   "metadata": {},
   "source": [
    "Both the WordLemmeatier and PorterStemmer from NLTK were tried, however the unaltered text consistently performed better. "
   ]
  },
  {
   "cell_type": "code",
   "execution_count": 21,
   "metadata": {
    "scrolled": true
   },
   "outputs": [],
   "source": [
    "combined_data.body = combined_data.body.apply(clean_text)"
   ]
  },
  {
   "cell_type": "code",
   "execution_count": 22,
   "metadata": {
    "scrolled": true
   },
   "outputs": [
    {
     "data": {
      "text/html": [
       "<div>\n",
       "<style scoped>\n",
       "    .dataframe tbody tr th:only-of-type {\n",
       "        vertical-align: middle;\n",
       "    }\n",
       "\n",
       "    .dataframe tbody tr th {\n",
       "        vertical-align: top;\n",
       "    }\n",
       "\n",
       "    .dataframe thead th {\n",
       "        text-align: right;\n",
       "    }\n",
       "</style>\n",
       "<table border=\"1\" class=\"dataframe\">\n",
       "  <thead>\n",
       "    <tr style=\"text-align: right;\">\n",
       "      <th></th>\n",
       "      <th>author</th>\n",
       "      <th>body</th>\n",
       "      <th>date</th>\n",
       "      <th>score</th>\n",
       "      <th>subreddit</th>\n",
       "    </tr>\n",
       "  </thead>\n",
       "  <tbody>\n",
       "    <tr>\n",
       "      <th>0</th>\n",
       "      <td>nixfu</td>\n",
       "      <td>no completed deals   not doing business   he w...</td>\n",
       "      <td>2018-11-30</td>\n",
       "      <td>1</td>\n",
       "      <td>The_Donald</td>\n",
       "    </tr>\n",
       "    <tr>\n",
       "      <th>1</th>\n",
       "      <td>Crypulous</td>\n",
       "      <td>trump has been amazing on a lot of things  but...</td>\n",
       "      <td>2018-11-30</td>\n",
       "      <td>1</td>\n",
       "      <td>The_Donald</td>\n",
       "    </tr>\n",
       "    <tr>\n",
       "      <th>2</th>\n",
       "      <td>Dueler312</td>\n",
       "      <td>actually fox news did show it</td>\n",
       "      <td>2018-11-30</td>\n",
       "      <td>1</td>\n",
       "      <td>The_Donald</td>\n",
       "    </tr>\n",
       "    <tr>\n",
       "      <th>3</th>\n",
       "      <td>soberlight</td>\n",
       "      <td>the excuse about being concerned about their r...</td>\n",
       "      <td>2018-11-30</td>\n",
       "      <td>1</td>\n",
       "      <td>The_Donald</td>\n",
       "    </tr>\n",
       "    <tr>\n",
       "      <th>4</th>\n",
       "      <td>enterthewalrus</td>\n",
       "      <td>well arizona did not get martha mcsally but it...</td>\n",
       "      <td>2018-11-30</td>\n",
       "      <td>1</td>\n",
       "      <td>The_Donald</td>\n",
       "    </tr>\n",
       "  </tbody>\n",
       "</table>\n",
       "</div>"
      ],
      "text/plain": [
       "           author                                               body  \\\n",
       "0           nixfu  no completed deals   not doing business   he w...   \n",
       "1       Crypulous  trump has been amazing on a lot of things  but...   \n",
       "2       Dueler312                    actually fox news did show it     \n",
       "3      soberlight  the excuse about being concerned about their r...   \n",
       "4  enterthewalrus  well arizona did not get martha mcsally but it...   \n",
       "\n",
       "         date  score   subreddit  \n",
       "0  2018-11-30      1  The_Donald  \n",
       "1  2018-11-30      1  The_Donald  \n",
       "2  2018-11-30      1  The_Donald  \n",
       "3  2018-11-30      1  The_Donald  \n",
       "4  2018-11-30      1  The_Donald  "
      ]
     },
     "execution_count": 22,
     "metadata": {},
     "output_type": "execute_result"
    }
   ],
   "source": [
    "combined_data.head()"
   ]
  },
  {
   "cell_type": "code",
   "execution_count": 23,
   "metadata": {},
   "outputs": [
    {
     "data": {
      "text/plain": [
       "(58014, 5)"
      ]
     },
     "execution_count": 23,
     "metadata": {},
     "output_type": "execute_result"
    }
   ],
   "source": [
    "combined_data.shape"
   ]
  },
  {
   "cell_type": "code",
   "execution_count": 24,
   "metadata": {},
   "outputs": [],
   "source": [
    "#combined_data.to_csv('./datasets/cleaned_donald_chappo_text.csv')"
   ]
  },
  {
   "cell_type": "markdown",
   "metadata": {},
   "source": [
    "---"
   ]
  },
  {
   "cell_type": "code",
   "execution_count": 4,
   "metadata": {},
   "outputs": [],
   "source": [
    "# modifying the function to include a comment subject filter, and changing tracker to 100 days\n",
    "\n",
    "def scrape_pushshift(subreddit, content, q, start_date, end_date, search_range):\n",
    "    if 24 % search_range != 0:\n",
    "        print('not a valid search_range')\n",
    "        return None\n",
    "    \n",
    "    # setting up number of inital conditions\n",
    "    hours = ((end_date-start_date).days + 1) * (24//search_range)\n",
    "    before = (dt.date.today()-end_date).days*24\n",
    "    after = before + search_range\n",
    "    completed_hours = 0\n",
    "    completed_days = 0\n",
    "    \n",
    "    dict_list = []\n",
    "\n",
    "    for _ in range(hours):\n",
    "        # sets up url with the specified subreddit and next hour block\n",
    "        url = f'https://api.pushshift.io/reddit/search/{content}/?subreddit={subreddit}&size=500&before={str(before)}h&after={str(after)}h&q={q}'\n",
    "        res = requests.get(url)\n",
    "        \n",
    "        # checks for a valid connection\n",
    "        while res.status_code != 200:\n",
    "            print(res.status_code)\n",
    "            res = requests.get(url)\n",
    "            time.sleep(1)\n",
    "        \n",
    "        the_json = res.json()\n",
    "        dict_list.extend(the_json['data'])\n",
    "        \n",
    "        before += search_range\n",
    "        after += search_range\n",
    "        completed_hours += search_range\n",
    "        \n",
    "        if completed_hours % 2400 == 0:\n",
    "            completed_days += 100\n",
    "            print(f'Days Complete: {completed_days}')\n",
    "        time.sleep(1)\n",
    "\n",
    "    return dict_list"
   ]
  },
  {
   "cell_type": "code",
   "execution_count": 7,
   "metadata": {},
   "outputs": [
    {
     "name": "stdout",
     "output_type": "stream",
     "text": [
      "Days Complete: 100\n",
      "Days Complete: 200\n",
      "Days Complete: 300\n",
      "Days Complete: 400\n",
      "Days Complete: 500\n",
      "Days Complete: 600\n",
      "Days Complete: 700\n",
      "Days Complete: 800\n",
      "Days Complete: 900\n",
      "Days Complete: 1000\n",
      "Days Complete: 1100\n",
      "Days Complete: 1200\n",
      "Days Complete: 1300\n",
      "Days Complete: 1400\n"
     ]
    }
   ],
   "source": [
    "mccain_scrapes = scrape_pushshift(subreddit = 'the_donald', \n",
    "                                          content = 'comment',\n",
    "                                          q = 'McCain',\n",
    "                                          start_date = dt.date(2015, 1, 1), \n",
    "                                          end_date = dt.date.today(),\n",
    "                                          search_range = 24)"
   ]
  },
  {
   "cell_type": "code",
   "execution_count": 10,
   "metadata": {},
   "outputs": [
    {
     "data": {
      "text/plain": [
       "(64189, 5)"
      ]
     },
     "execution_count": 10,
     "metadata": {},
     "output_type": "execute_result"
    }
   ],
   "source": [
    "mccain_data = scrape_to_dataframe(mccain_scrapes)\n",
    "mccain_data.shape"
   ]
  },
  {
   "cell_type": "code",
   "execution_count": 26,
   "metadata": {},
   "outputs": [
    {
     "data": {
      "text/html": [
       "<div>\n",
       "<style scoped>\n",
       "    .dataframe tbody tr th:only-of-type {\n",
       "        vertical-align: middle;\n",
       "    }\n",
       "\n",
       "    .dataframe tbody tr th {\n",
       "        vertical-align: top;\n",
       "    }\n",
       "\n",
       "    .dataframe thead th {\n",
       "        text-align: right;\n",
       "    }\n",
       "</style>\n",
       "<table border=\"1\" class=\"dataframe\">\n",
       "  <thead>\n",
       "    <tr style=\"text-align: right;\">\n",
       "      <th></th>\n",
       "      <th>author</th>\n",
       "      <th>body</th>\n",
       "      <th>date</th>\n",
       "      <th>score</th>\n",
       "      <th>subreddit</th>\n",
       "    </tr>\n",
       "  </thead>\n",
       "  <tbody>\n",
       "    <tr>\n",
       "      <th>0</th>\n",
       "      <td>havoc2bg</td>\n",
       "      <td>Not the first time McCain peddled foreign prop...</td>\n",
       "      <td>2019-01-01</td>\n",
       "      <td>1</td>\n",
       "      <td>The_Donald</td>\n",
       "    </tr>\n",
       "    <tr>\n",
       "      <th>1</th>\n",
       "      <td>bhoelscher</td>\n",
       "      <td>Fucking McCain</td>\n",
       "      <td>2019-01-01</td>\n",
       "      <td>1</td>\n",
       "      <td>The_Donald</td>\n",
       "    </tr>\n",
       "    <tr>\n",
       "      <th>2</th>\n",
       "      <td>armorkingII</td>\n",
       "      <td>He didn't sell out. He always was a Deep State...</td>\n",
       "      <td>2019-01-01</td>\n",
       "      <td>1</td>\n",
       "      <td>The_Donald</td>\n",
       "    </tr>\n",
       "    <tr>\n",
       "      <th>3</th>\n",
       "      <td>Bulldog65</td>\n",
       "      <td>Such a two faced sack of crap, cut from the sa...</td>\n",
       "      <td>2019-01-01</td>\n",
       "      <td>1</td>\n",
       "      <td>The_Donald</td>\n",
       "    </tr>\n",
       "    <tr>\n",
       "      <th>4</th>\n",
       "      <td>armorkingII</td>\n",
       "      <td>I voted for this guy. I voted for McCain. No l...</td>\n",
       "      <td>2019-01-01</td>\n",
       "      <td>1</td>\n",
       "      <td>The_Donald</td>\n",
       "    </tr>\n",
       "  </tbody>\n",
       "</table>\n",
       "</div>"
      ],
      "text/plain": [
       "        author                                               body        date  \\\n",
       "0     havoc2bg  Not the first time McCain peddled foreign prop...  2019-01-01   \n",
       "1   bhoelscher                                    Fucking McCain   2019-01-01   \n",
       "2  armorkingII  He didn't sell out. He always was a Deep State...  2019-01-01   \n",
       "3    Bulldog65  Such a two faced sack of crap, cut from the sa...  2019-01-01   \n",
       "4  armorkingII  I voted for this guy. I voted for McCain. No l...  2019-01-01   \n",
       "\n",
       "   score   subreddit  \n",
       "0      1  The_Donald  \n",
       "1      1  The_Donald  \n",
       "2      1  The_Donald  \n",
       "3      1  The_Donald  \n",
       "4      1  The_Donald  "
      ]
     },
     "execution_count": 26,
     "metadata": {},
     "output_type": "execute_result"
    }
   ],
   "source": [
    "mccain_data.head()"
   ]
  },
  {
   "cell_type": "code",
   "execution_count": 21,
   "metadata": {},
   "outputs": [],
   "source": [
    "mccain_data.to_csv('./datasets/mccain_data.csv', index=False)"
   ]
  },
  {
   "cell_type": "code",
   "execution_count": 12,
   "metadata": {},
   "outputs": [
    {
     "name": "stdout",
     "output_type": "stream",
     "text": [
      "Days Complete: 100\n",
      "Days Complete: 200\n",
      "Days Complete: 300\n",
      "Days Complete: 400\n",
      "Days Complete: 500\n",
      "Days Complete: 600\n",
      "Days Complete: 700\n",
      "Days Complete: 800\n",
      "Days Complete: 900\n",
      "Days Complete: 1000\n",
      "Days Complete: 1100\n",
      "Days Complete: 1200\n",
      "Days Complete: 1300\n",
      "Days Complete: 1400\n"
     ]
    }
   ],
   "source": [
    "orange_man_bad_scrapes = scrape_pushshift(subreddit = 'the_donald', \n",
    "                                          content = 'comment',\n",
    "                                          q = 'orange man bad',\n",
    "                                          start_date = dt.date(2015, 1, 1), \n",
    "                                          end_date = dt.date.today(),\n",
    "                                          search_range = 24)"
   ]
  },
  {
   "cell_type": "code",
   "execution_count": 13,
   "metadata": {},
   "outputs": [
    {
     "data": {
      "text/plain": [
       "(6706, 5)"
      ]
     },
     "execution_count": 13,
     "metadata": {},
     "output_type": "execute_result"
    }
   ],
   "source": [
    "orange_man_bad_data = scrape_to_dataframe(orange_man_bad_scrapes)\n",
    "orange_man_bad_data.shape"
   ]
  },
  {
   "cell_type": "code",
   "execution_count": 14,
   "metadata": {
    "scrolled": true
   },
   "outputs": [
    {
     "data": {
      "text/html": [
       "<div>\n",
       "<style scoped>\n",
       "    .dataframe tbody tr th:only-of-type {\n",
       "        vertical-align: middle;\n",
       "    }\n",
       "\n",
       "    .dataframe tbody tr th {\n",
       "        vertical-align: top;\n",
       "    }\n",
       "\n",
       "    .dataframe thead th {\n",
       "        text-align: right;\n",
       "    }\n",
       "</style>\n",
       "<table border=\"1\" class=\"dataframe\">\n",
       "  <thead>\n",
       "    <tr style=\"text-align: right;\">\n",
       "      <th></th>\n",
       "      <th>author</th>\n",
       "      <th>body</th>\n",
       "      <th>date</th>\n",
       "      <th>score</th>\n",
       "      <th>subreddit</th>\n",
       "    </tr>\n",
       "  </thead>\n",
       "  <tbody>\n",
       "    <tr>\n",
       "      <th>0</th>\n",
       "      <td>BoomerMaxwell</td>\n",
       "      <td>Orange man still bad for eating kfc!</td>\n",
       "      <td>2019-01-01</td>\n",
       "      <td>1</td>\n",
       "      <td>The_Donald</td>\n",
       "    </tr>\n",
       "    <tr>\n",
       "      <th>1</th>\n",
       "      <td>Fishyman908</td>\n",
       "      <td>Kim: Hey Trump last meeting was great. Can we ...</td>\n",
       "      <td>2019-01-02</td>\n",
       "      <td>1</td>\n",
       "      <td>The_Donald</td>\n",
       "    </tr>\n",
       "    <tr>\n",
       "      <th>2</th>\n",
       "      <td>HillarysRussianBot</td>\n",
       "      <td>But but but Trump is a racist and... And slave...</td>\n",
       "      <td>2019-01-02</td>\n",
       "      <td>1</td>\n",
       "      <td>The_Donald</td>\n",
       "    </tr>\n",
       "    <tr>\n",
       "      <th>3</th>\n",
       "      <td>ziggyzona</td>\n",
       "      <td>Assange is the founder of a journalist institu...</td>\n",
       "      <td>2019-01-02</td>\n",
       "      <td>1</td>\n",
       "      <td>The_Donald</td>\n",
       "    </tr>\n",
       "    <tr>\n",
       "      <th>4</th>\n",
       "      <td>god_emperor_jeb</td>\n",
       "      <td>The left/right dichotomy only serves the elite...</td>\n",
       "      <td>2019-01-02</td>\n",
       "      <td>1</td>\n",
       "      <td>The_Donald</td>\n",
       "    </tr>\n",
       "  </tbody>\n",
       "</table>\n",
       "</div>"
      ],
      "text/plain": [
       "               author                                               body  \\\n",
       "0       BoomerMaxwell               Orange man still bad for eating kfc!   \n",
       "1         Fishyman908  Kim: Hey Trump last meeting was great. Can we ...   \n",
       "2  HillarysRussianBot  But but but Trump is a racist and... And slave...   \n",
       "3           ziggyzona  Assange is the founder of a journalist institu...   \n",
       "4     god_emperor_jeb  The left/right dichotomy only serves the elite...   \n",
       "\n",
       "         date  score   subreddit  \n",
       "0  2019-01-01      1  The_Donald  \n",
       "1  2019-01-02      1  The_Donald  \n",
       "2  2019-01-02      1  The_Donald  \n",
       "3  2019-01-02      1  The_Donald  \n",
       "4  2019-01-02      1  The_Donald  "
      ]
     },
     "execution_count": 14,
     "metadata": {},
     "output_type": "execute_result"
    }
   ],
   "source": [
    "orange_man_bad_data.head()"
   ]
  },
  {
   "cell_type": "code",
   "execution_count": 25,
   "metadata": {},
   "outputs": [],
   "source": [
    "orange_man_bad_data.to_csv('./datasets/orange_man_bad_data.csv', index=False)"
   ]
  },
  {
   "cell_type": "code",
   "execution_count": 15,
   "metadata": {
    "scrolled": true
   },
   "outputs": [
    {
     "name": "stdout",
     "output_type": "stream",
     "text": [
      "Days Complete: 100\n",
      "Days Complete: 200\n",
      "Days Complete: 300\n",
      "Days Complete: 400\n",
      "Days Complete: 500\n",
      "Days Complete: 600\n",
      "Days Complete: 700\n",
      "Days Complete: 800\n",
      "Days Complete: 900\n",
      "Days Complete: 1000\n",
      "Days Complete: 1100\n",
      "Days Complete: 1200\n",
      "Days Complete: 1300\n",
      "Days Complete: 1400\n"
     ]
    }
   ],
   "source": [
    "god_emperor_scrapes = scrape_pushshift(subreddit = 'the_donald', \n",
    "                                          content = 'comment',\n",
    "                                          q = 'god emperor',\n",
    "                                          start_date = dt.date(2015, 1, 1), \n",
    "                                          end_date = dt.date.today(),\n",
    "                                          search_range = 24)"
   ]
  },
  {
   "cell_type": "code",
   "execution_count": 16,
   "metadata": {},
   "outputs": [
    {
     "data": {
      "text/plain": [
       "(57768, 5)"
      ]
     },
     "execution_count": 16,
     "metadata": {},
     "output_type": "execute_result"
    }
   ],
   "source": [
    "god_emperor_data = scrape_to_dataframe(god_emperor_scrapes)\n",
    "god_emperor_data.shape"
   ]
  },
  {
   "cell_type": "code",
   "execution_count": 17,
   "metadata": {},
   "outputs": [
    {
     "data": {
      "text/html": [
       "<div>\n",
       "<style scoped>\n",
       "    .dataframe tbody tr th:only-of-type {\n",
       "        vertical-align: middle;\n",
       "    }\n",
       "\n",
       "    .dataframe tbody tr th {\n",
       "        vertical-align: top;\n",
       "    }\n",
       "\n",
       "    .dataframe thead th {\n",
       "        text-align: right;\n",
       "    }\n",
       "</style>\n",
       "<table border=\"1\" class=\"dataframe\">\n",
       "  <thead>\n",
       "    <tr style=\"text-align: right;\">\n",
       "      <th></th>\n",
       "      <th>author</th>\n",
       "      <th>body</th>\n",
       "      <th>date</th>\n",
       "      <th>score</th>\n",
       "      <th>subreddit</th>\n",
       "    </tr>\n",
       "  </thead>\n",
       "  <tbody>\n",
       "    <tr>\n",
       "      <th>0</th>\n",
       "      <td>Taellyn</td>\n",
       "      <td>Right?! I was all packed and ready to go! Stil...</td>\n",
       "      <td>2019-01-02</td>\n",
       "      <td>1</td>\n",
       "      <td>The_Donald</td>\n",
       "    </tr>\n",
       "    <tr>\n",
       "      <th>1</th>\n",
       "      <td>ono412</td>\n",
       "      <td>Perhaps even a God Emperor?</td>\n",
       "      <td>2019-01-02</td>\n",
       "      <td>1</td>\n",
       "      <td>The_Donald</td>\n",
       "    </tr>\n",
       "    <tr>\n",
       "      <th>2</th>\n",
       "      <td>ShadowBanThisCucks</td>\n",
       "      <td>I wouldn't mind if there's a GOP primary. Then...</td>\n",
       "      <td>2019-01-02</td>\n",
       "      <td>1</td>\n",
       "      <td>The_Donald</td>\n",
       "    </tr>\n",
       "    <tr>\n",
       "      <th>3</th>\n",
       "      <td>TheComedianGLP</td>\n",
       "      <td>It's hard to hide your identity as Saviour of ...</td>\n",
       "      <td>2019-01-02</td>\n",
       "      <td>1</td>\n",
       "      <td>The_Donald</td>\n",
       "    </tr>\n",
       "    <tr>\n",
       "      <th>4</th>\n",
       "      <td>ConservativelyRight</td>\n",
       "      <td>They're already caving. Our God Emperor will m...</td>\n",
       "      <td>2019-01-02</td>\n",
       "      <td>1</td>\n",
       "      <td>The_Donald</td>\n",
       "    </tr>\n",
       "  </tbody>\n",
       "</table>\n",
       "</div>"
      ],
      "text/plain": [
       "                author                                               body  \\\n",
       "0              Taellyn  Right?! I was all packed and ready to go! Stil...   \n",
       "1               ono412                        Perhaps even a God Emperor?   \n",
       "2   ShadowBanThisCucks  I wouldn't mind if there's a GOP primary. Then...   \n",
       "3       TheComedianGLP  It's hard to hide your identity as Saviour of ...   \n",
       "4  ConservativelyRight  They're already caving. Our God Emperor will m...   \n",
       "\n",
       "         date  score   subreddit  \n",
       "0  2019-01-02      1  The_Donald  \n",
       "1  2019-01-02      1  The_Donald  \n",
       "2  2019-01-02      1  The_Donald  \n",
       "3  2019-01-02      1  The_Donald  \n",
       "4  2019-01-02      1  The_Donald  "
      ]
     },
     "execution_count": 17,
     "metadata": {},
     "output_type": "execute_result"
    }
   ],
   "source": [
    "god_emperor_data.head()"
   ]
  },
  {
   "cell_type": "code",
   "execution_count": 23,
   "metadata": {},
   "outputs": [],
   "source": [
    "god_emperor_data.to_csv('./datasets/god_emperor_data.csv', index=False)"
   ]
  },
  {
   "cell_type": "code",
   "execution_count": 5,
   "metadata": {},
   "outputs": [
    {
     "name": "stdout",
     "output_type": "stream",
     "text": [
      "Days Complete: 100\n",
      "Days Complete: 200\n",
      "Days Complete: 300\n",
      "Days Complete: 400\n",
      "Days Complete: 500\n",
      "Days Complete: 600\n",
      "Days Complete: 700\n",
      "Days Complete: 800\n",
      "Days Complete: 900\n",
      "Days Complete: 1000\n",
      "Days Complete: 1100\n",
      "Days Complete: 1200\n",
      "Days Complete: 1300\n",
      "Days Complete: 1400\n"
     ]
    }
   ],
   "source": [
    "build_the_wall_scrapes = scrape_pushshift(subreddit = 'the_donald', \n",
    "                                          content = 'comment',\n",
    "                                          q = 'build the wall',\n",
    "                                          start_date = dt.date(2015, 1, 1), \n",
    "                                          end_date = dt.date.today(),\n",
    "                                          search_range = 24)"
   ]
  },
  {
   "cell_type": "code",
   "execution_count": 6,
   "metadata": {},
   "outputs": [
    {
     "data": {
      "text/plain": [
       "(79887, 5)"
      ]
     },
     "execution_count": 6,
     "metadata": {},
     "output_type": "execute_result"
    }
   ],
   "source": [
    "build_the_wall_data = scrape_to_dataframe(build_the_wall_scrapes)\n",
    "build_the_wall_data.shape"
   ]
  },
  {
   "cell_type": "code",
   "execution_count": 7,
   "metadata": {},
   "outputs": [
    {
     "data": {
      "text/html": [
       "<div>\n",
       "<style scoped>\n",
       "    .dataframe tbody tr th:only-of-type {\n",
       "        vertical-align: middle;\n",
       "    }\n",
       "\n",
       "    .dataframe tbody tr th {\n",
       "        vertical-align: top;\n",
       "    }\n",
       "\n",
       "    .dataframe thead th {\n",
       "        text-align: right;\n",
       "    }\n",
       "</style>\n",
       "<table border=\"1\" class=\"dataframe\">\n",
       "  <thead>\n",
       "    <tr style=\"text-align: right;\">\n",
       "      <th></th>\n",
       "      <th>author</th>\n",
       "      <th>body</th>\n",
       "      <th>date</th>\n",
       "      <th>score</th>\n",
       "      <th>subreddit</th>\n",
       "    </tr>\n",
       "  </thead>\n",
       "  <tbody>\n",
       "    <tr>\n",
       "      <th>0</th>\n",
       "      <td>beerpuke</td>\n",
       "      <td>Mexico has been and will always be a pass thro...</td>\n",
       "      <td>2019-01-02</td>\n",
       "      <td>1</td>\n",
       "      <td>The_Donald</td>\n",
       "    </tr>\n",
       "    <tr>\n",
       "      <th>1</th>\n",
       "      <td>TrumpBrickBot</td>\n",
       "      <td>**FOR THE LOVE OF GOD GET THIS PATRIOT A BRICK...</td>\n",
       "      <td>2019-01-02</td>\n",
       "      <td>1</td>\n",
       "      <td>The_Donald</td>\n",
       "    </tr>\n",
       "    <tr>\n",
       "      <th>2</th>\n",
       "      <td>Catit50</td>\n",
       "      <td>Did BHO pay for his wall? Did the US tax payer...</td>\n",
       "      <td>2019-01-02</td>\n",
       "      <td>1</td>\n",
       "      <td>The_Donald</td>\n",
       "    </tr>\n",
       "    <tr>\n",
       "      <th>3</th>\n",
       "      <td>missionofpiece</td>\n",
       "      <td>I return all the GOP \"surveys\" that are really...</td>\n",
       "      <td>2019-01-02</td>\n",
       "      <td>1</td>\n",
       "      <td>The_Donald</td>\n",
       "    </tr>\n",
       "    <tr>\n",
       "      <th>4</th>\n",
       "      <td>UsernameNeo</td>\n",
       "      <td>I want a build the wall camp and I want it now!</td>\n",
       "      <td>2019-01-02</td>\n",
       "      <td>1</td>\n",
       "      <td>The_Donald</td>\n",
       "    </tr>\n",
       "  </tbody>\n",
       "</table>\n",
       "</div>"
      ],
      "text/plain": [
       "           author                                               body  \\\n",
       "0        beerpuke  Mexico has been and will always be a pass thro...   \n",
       "1   TrumpBrickBot  **FOR THE LOVE OF GOD GET THIS PATRIOT A BRICK...   \n",
       "2         Catit50  Did BHO pay for his wall? Did the US tax payer...   \n",
       "3  missionofpiece  I return all the GOP \"surveys\" that are really...   \n",
       "4     UsernameNeo    I want a build the wall camp and I want it now!   \n",
       "\n",
       "         date  score   subreddit  \n",
       "0  2019-01-02      1  The_Donald  \n",
       "1  2019-01-02      1  The_Donald  \n",
       "2  2019-01-02      1  The_Donald  \n",
       "3  2019-01-02      1  The_Donald  \n",
       "4  2019-01-02      1  The_Donald  "
      ]
     },
     "execution_count": 7,
     "metadata": {},
     "output_type": "execute_result"
    }
   ],
   "source": [
    "build_the_wall_data.head()"
   ]
  },
  {
   "cell_type": "code",
   "execution_count": 8,
   "metadata": {},
   "outputs": [],
   "source": [
    "build_the_wall_data.to_csv('./datasets/build_the_wall.csv', index=False)"
   ]
  }
 ],
 "metadata": {
  "kernelspec": {
   "display_name": "Python 3",
   "language": "python",
   "name": "python3"
  },
  "language_info": {
   "codemirror_mode": {
    "name": "ipython",
    "version": 3
   },
   "file_extension": ".py",
   "mimetype": "text/x-python",
   "name": "python",
   "nbconvert_exporter": "python",
   "pygments_lexer": "ipython3",
   "version": "3.6.6"
  }
 },
 "nbformat": 4,
 "nbformat_minor": 2
}
